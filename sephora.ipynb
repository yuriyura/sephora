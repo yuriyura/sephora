{
 "cells": [
  {
   "cell_type": "code",
   "execution_count": 2,
   "id": "9ebcaff4",
   "metadata": {
    "scrolled": false
   },
   "outputs": [],
   "source": [
    "from selenium import webdriver\n",
    "from selenium.webdriver.common.keys import Keys\n",
    "import time\n",
    "\n",
    "driver = webdriver.Chrome('C:/Users/danie/OneDrive/문서/Sephora/chromedriver')\n",
    "\n",
    "driver.implicitly_wait(15)\n",
    "\n",
    "driver.get('https://www.sephora.com/product/the-true-cream-aqua-bomb-P394639?skuId=1686427&icid2=products%20grid:p394639:product')\n",
    "           \n",
    "time.sleep(5)\n",
    "\n",
    "driver.maximize_window()\n",
    "\n",
    "\n",
    "\n",
    "import pyautogui\n",
    "\n",
    "#print(pyautogui.position())\n",
    "#print(pyautogui.size())\n",
    "\n",
    "#fw = pyautogui.getActiveWindow()\n",
    "#fw.isMaximized \n",
    "\n",
    "pyautogui.moveTo(1725, 50)\n",
    "pyautogui.click()\n",
    "\n",
    "\n",
    "\n",
    "#driver.quit()"
   ]
  },
  {
   "cell_type": "code",
   "execution_count": null,
   "id": "bb08a28f",
   "metadata": {},
   "outputs": [],
   "source": [
    "pyautogui.moveTo(1725, 50)\n",
    "pyautogui.click()"
   ]
  },
  {
   "cell_type": "code",
   "execution_count": null,
   "id": "09f2ea15",
   "metadata": {},
   "outputs": [],
   "source": [
    "from selenium import webdriver\n",
    "from selenium.webdriver.common.by import By\n",
    "from selenium.webdriver.support.ui import WebDriverWait\n",
    "from selenium.webdriver.support import expected_conditions as EC\n",
    "from selenium.common.exceptions import TimeoutException\n",
    "import csv\n",
    "\n",
    "# Path to your webdriver executable\n",
    "driver_path = 'C:/Users/danie/OneDrive/문서/Sephora/chromedriver'\n",
    "\n",
    "# Instantiate webdriver\n",
    "driver = webdriver.Chrome(driver_path)\n",
    "\n",
    "# Define URL\n",
    "url = \"https://www.sephora.com/product/the-true-cream-aqua-bomb-P394639?skuId=1686427&icid2=products%20grid:p394639:product\"\n",
    "\n",
    "# Open the URL\n",
    "driver.get(url)\n",
    "\n",
    "# Create an empty list to hold the reviews\n",
    "reviews_list = []\n",
    "\n",
    "try:\n",
    "    # Wait up to 10 seconds for the page to load\n",
    "    WebDriverWait(driver, 10).until(EC.presence_of_element_located((By.CLASS_NAME, 'review'))) \n",
    "\n",
    "    # Get reviews\n",
    "    reviews = driver.find_elements_by_class_name('review') # replace 'review' with actual class name\n",
    "\n",
    "    # Save reviews to the list\n",
    "    for review in reviews:\n",
    "        reviews_list.append(review.text)\n",
    "\n",
    "except TimeoutException:\n",
    "    print(\"Loading took too much time!\")\n",
    "\n",
    "# Close the browser\n",
    "driver.quit()\n",
    "\n",
    "# Now write the reviews to a CSV file\n",
    "with open('reviews.csv', 'w', newline='', encoding='utf-8') as f:\n",
    "    writer = csv.writer(f)\n",
    "    writer.writerow(['Reviews']) # writing headers\n",
    "\n",
    "    # writing data row-wise into the csv file\n",
    "    for review in reviews_list:\n",
    "        writer.writerow([review]) # write each review as a row\n"
   ]
  },
  {
   "cell_type": "code",
   "execution_count": null,
   "id": "5da9f709",
   "metadata": {},
   "outputs": [],
   "source": []
  }
 ],
 "metadata": {
  "kernelspec": {
   "display_name": "Python 3 (ipykernel)",
   "language": "python",
   "name": "python3"
  },
  "language_info": {
   "codemirror_mode": {
    "name": "ipython",
    "version": 3
   },
   "file_extension": ".py",
   "mimetype": "text/x-python",
   "name": "python",
   "nbconvert_exporter": "python",
   "pygments_lexer": "ipython3",
   "version": "3.9.16"
  }
 },
 "nbformat": 4,
 "nbformat_minor": 5
}
